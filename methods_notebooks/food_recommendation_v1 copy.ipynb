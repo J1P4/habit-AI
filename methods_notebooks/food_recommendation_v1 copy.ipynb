{
  "cells": [
    {
      "cell_type": "code",
      "execution_count": 5,
      "metadata": {
        "id": "P1Bog3JiKrLT"
      },
      "outputs": [],
      "source": [
        "# PATH_NAME = 'C:/Users/gkstk/OneDrive/Desktop/SangMin/Github/AI/data/'\n",
        "# PATH_NAME2 = 'C:/Users/gkstk/OneDrive/Desktop/SangMin/Github/AI/'\n"
      ]
    },
    {
      "cell_type": "code",
      "execution_count": 6,
      "metadata": {},
      "outputs": [],
      "source": [
        "PATH_NAME = 'C:/Users/woobi/Documents/habit/habit-AI/data/'\n",
        "PATH_NAME2 = 'C:/Users/woobi/Documents/habit/habit-AI/'"
      ]
    },
    {
      "cell_type": "code",
      "execution_count": 7,
      "metadata": {
        "id": "j8EftDfLBQ-Z"
      },
      "outputs": [],
      "source": [
        "import pandas as pd\n",
        "import numpy as np\n",
        "import re\n",
        "from konlpy.tag import Okt\n",
        "from gensim.models import KeyedVectors\n",
        "from sklearn.metrics.pairwise import cosine_similarity\n",
        "from collections import defaultdict\n",
        "import pickle\n",
        "import math\n",
        "from collections import Counter"
      ]
    },
    {
      "cell_type": "code",
      "execution_count": 9,
      "metadata": {
        "id": "RIVlLNXkWxcy"
      },
      "outputs": [
        {
          "ename": "FileNotFoundError",
          "evalue": "[Errno 2] No such file or directory: 'C:/Users/woobi/Documents/habit/habit-AI/data/wweia_synonym_cats.pickle'",
          "output_type": "error",
          "traceback": [
            "\u001b[1;31m---------------------------------------------------------------------------\u001b[0m",
            "\u001b[1;31mFileNotFoundError\u001b[0m                         Traceback (most recent call last)",
            "Cell \u001b[1;32mIn[9], line 3\u001b[0m\n\u001b[0;32m      1\u001b[0m model \u001b[38;5;241m=\u001b[39m KeyedVectors\u001b[38;5;241m.\u001b[39mload(PATH_NAME \u001b[38;5;241m+\u001b[39m \u001b[38;5;124m\"\u001b[39m\u001b[38;5;124m한국어_음식모델_한상민_v2.kv\u001b[39m\u001b[38;5;124m\"\u001b[39m, mmap\u001b[38;5;241m=\u001b[39m\u001b[38;5;124m'\u001b[39m\u001b[38;5;124mr\u001b[39m\u001b[38;5;124m'\u001b[39m)\n\u001b[1;32m----> 3\u001b[0m \u001b[38;5;28;01mwith\u001b[39;00m \u001b[38;5;28;43mopen\u001b[39;49m\u001b[43m(\u001b[49m\u001b[43mPATH_NAME\u001b[49m\u001b[43m \u001b[49m\u001b[38;5;241;43m+\u001b[39;49m\u001b[43m \u001b[49m\u001b[38;5;124;43m'\u001b[39;49m\u001b[38;5;124;43mwweia_synonym_cats.pickle\u001b[39;49m\u001b[38;5;124;43m'\u001b[39;49m\u001b[43m,\u001b[49m\u001b[43m \u001b[49m\u001b[38;5;124;43m'\u001b[39;49m\u001b[38;5;124;43mrb\u001b[39;49m\u001b[38;5;124;43m'\u001b[39;49m\u001b[43m)\u001b[49m \u001b[38;5;28;01mas\u001b[39;00m handle:\n\u001b[0;32m      4\u001b[0m   wweia_synonym_cats \u001b[38;5;241m=\u001b[39m pickle\u001b[38;5;241m.\u001b[39mload(handle)\n\u001b[0;32m      6\u001b[0m wweia_food_categories \u001b[38;5;241m=\u001b[39m pd\u001b[38;5;241m.\u001b[39mread_csv(PATH_NAME \u001b[38;5;241m+\u001b[39m \u001b[38;5;124m'\u001b[39m\u001b[38;5;124mwweia_food_categories_addtl.csv\u001b[39m\u001b[38;5;124m'\u001b[39m)\n",
            "File \u001b[1;32mc:\\Users\\woobi\\AppData\\Local\\Programs\\Python\\Python310\\lib\\site-packages\\IPython\\core\\interactiveshell.py:286\u001b[0m, in \u001b[0;36m_modified_open\u001b[1;34m(file, *args, **kwargs)\u001b[0m\n\u001b[0;32m    279\u001b[0m \u001b[38;5;28;01mif\u001b[39;00m file \u001b[38;5;129;01min\u001b[39;00m {\u001b[38;5;241m0\u001b[39m, \u001b[38;5;241m1\u001b[39m, \u001b[38;5;241m2\u001b[39m}:\n\u001b[0;32m    280\u001b[0m     \u001b[38;5;28;01mraise\u001b[39;00m \u001b[38;5;167;01mValueError\u001b[39;00m(\n\u001b[0;32m    281\u001b[0m         \u001b[38;5;124mf\u001b[39m\u001b[38;5;124m\"\u001b[39m\u001b[38;5;124mIPython won\u001b[39m\u001b[38;5;124m'\u001b[39m\u001b[38;5;124mt let you open fd=\u001b[39m\u001b[38;5;132;01m{\u001b[39;00mfile\u001b[38;5;132;01m}\u001b[39;00m\u001b[38;5;124m by default \u001b[39m\u001b[38;5;124m\"\u001b[39m\n\u001b[0;32m    282\u001b[0m         \u001b[38;5;124m\"\u001b[39m\u001b[38;5;124mas it is likely to crash IPython. If you know what you are doing, \u001b[39m\u001b[38;5;124m\"\u001b[39m\n\u001b[0;32m    283\u001b[0m         \u001b[38;5;124m\"\u001b[39m\u001b[38;5;124myou can use builtins\u001b[39m\u001b[38;5;124m'\u001b[39m\u001b[38;5;124m open.\u001b[39m\u001b[38;5;124m\"\u001b[39m\n\u001b[0;32m    284\u001b[0m     )\n\u001b[1;32m--> 286\u001b[0m \u001b[38;5;28;01mreturn\u001b[39;00m io_open(file, \u001b[38;5;241m*\u001b[39margs, \u001b[38;5;241m*\u001b[39m\u001b[38;5;241m*\u001b[39mkwargs)\n",
            "\u001b[1;31mFileNotFoundError\u001b[0m: [Errno 2] No such file or directory: 'C:/Users/woobi/Documents/habit/habit-AI/data/wweia_synonym_cats.pickle'"
          ]
        }
      ],
      "source": [
        "model = KeyedVectors.load(PATH_NAME + \"한국어_음식모델_한상민_v2.kv\", mmap='r')\n",
        "  \n",
        "wweia_food_categories = pd.read_csv(PATH_NAME + 'wweia_food_categories_addtl.csv')\n",
        "wweia_data = pd.read_csv(PATH_NAME + 'wweia_data.csv')\n",
        "wweia_embeddings = pd.read_csv(PATH_NAME + 'word_embeddings.csv', delimiter = \",\")"
      ]
    },
    {
      "cell_type": "code",
      "execution_count": null,
      "metadata": {
        "id": "jcOunKLxkU7B"
      },
      "outputs": [],
      "source": [
        "stop_words = ['가', '걍', '것', '고', '과', '는', '도', '들', '등', '때', '로', '를', '뿐', '수', '아니', '않', '없', '에', '에게', '와', '으로', '은', '의', '이', '이다', '있', '자', '잘', '좀', '하다', '한', '조각', '개', '것', '대', '소' ,'단계', '등급', '포함', '미니', '개입']"
      ]
    },
    {
      "cell_type": "code",
      "execution_count": null,
      "metadata": {
        "id": "MolpFYY6HRQ8"
      },
      "outputs": [],
      "source": [
        "def reduce_with_food_words(rough_phrase):\n",
        "  korean_string = re.sub(\"[^ㄱ-ㅎㅏ-ㅣ가-힣 ]\", \" \", rough_phrase)\n",
        "  okt = Okt()\n",
        "  token = okt.morphs(korean_string, stem=True)\n",
        "  \n",
        "  return token"
      ]
    },
    {
      "cell_type": "code",
      "execution_count": null,
      "metadata": {
        "id": "gsj1bLfb8LFK"
      },
      "outputs": [],
      "source": [
        "def process_food_log(curr_log, wweia_synonym_cats):\n",
        "  curr_log['predicted_categories_number'] = 0\n",
        "  curr_log['predicted_categories_words'] = \"\"\n",
        "  curr_log['max_cosim_score'] = 0\n",
        "  curr_log['most_sim_food'] = \"\"\n",
        "  curr_log['reciprocal_rank'] = 0.0\n",
        "  curr_log['sym_reciprocal_rank'] = 0.0\n",
        "\n",
        "  for i in range(curr_log.shape[0]):\n",
        "    food_name = curr_log.loc[i, 'Food Name']\n",
        "    pre_embedding = reduce_with_food_words(food_name)\n",
        "\n",
        "    word_embed = np.zeros(shape = (1, len(model[\"불고기\"])))\n",
        "    if len(pre_embedding) > 0:\n",
        "      \n",
        "      num_words = 0\n",
        "      for word in pre_embedding:\n",
        "        word = word.lower()\n",
        "        \n",
        "        if word in model:\n",
        "          num_words += 1\n",
        "          word_embed += model[word]\n",
        "\n",
        "      if num_words != 0:\n",
        "        word_embed /= num_words\n",
        "    \n",
        "    # print(\"음식 이름\")\n",
        "    # print(food_name)\n",
        "    # print(\"프리임베딩\")\n",
        "    # print(pre_embedding)\n",
        "    # print(word_embed)\n",
        "    # print('\\n')\n",
        "    \n",
        "    similarities = cosine_similarity(word_embed, wweia_embeddings)\n",
        "    to_keep_args = np.argsort(similarities, axis=1)\n",
        "    indices = np.flip(to_keep_args, axis = 1)\n",
        "\n",
        "    most_sim_food_row = wweia_data.iloc[indices[0,0], :]\n",
        "    highest_cat_num = most_sim_food_row['NO']\n",
        "    highest_cat_words = wweia_food_categories.loc[wweia_food_categories['NO'] == highest_cat_num, '식품명']\n",
        "    curr_log.loc[i, 'predicted_categories_number'] = highest_cat_num\n",
        "    curr_log.loc[i, 'predicted_categories_words'] = highest_cat_words.to_list()[0]\n",
        "    \n",
        "  return curr_log"
      ]
    },
    {
      "cell_type": "code",
      "execution_count": null,
      "metadata": {
        "colab": {
          "base_uri": "https://localhost:8080/"
        },
        "id": "0uDmhnMi_VRc",
        "outputId": "e54ea183-57ca-45af-8f31-46ab1bce5ebb"
      },
      "outputs": [],
      "source": [
        "# Main method\n",
        "def food_recommandation(input_food_list) :\n",
        "  df = pd.read_csv(PATH_NAME+ \"wweia_food_categories_addtl.csv\")\n",
        "  \n",
        "  numbers = [item[0] for item in input_food_list]\n",
        "  input_data = df[df['NO'].isin(numbers)]\n",
        "  print(input_data)\n",
        "  print(\"--------------------------------------------------\")\n",
        "  \n",
        "  input_list= [\"wweia_food_category_code\", \"Food Name\", \"wweia_food_category_description\"]\n",
        "  curr_log = pd.DataFrame(input_food_list, columns=input_list)\n",
        "  \n",
        "  curr_log = process_food_log(curr_log, wweia_synonym_cats)\n",
        "\n",
        "  print(\"true 출력 \")\n",
        "  first_list = set(curr_log.loc[:,'wweia_food_category_code'].tolist())\n",
        "  first_select_data = df[df['NO'].isin(first_list)]\n",
        "  print(first_list)\n",
        "  \n",
        "  second_list = set(curr_log.loc[:,'predicted_categories_number'].tolist())\n",
        "  second_select_data = df[df['NO'].isin(second_list)]\n",
        "  print(\"pred 출력 \")\n",
        "  print(second_list)\n",
        "  \n",
        "  print(\"--------------------------------------------------\")\n",
        "  print(first_select_data)\n",
        "  print(\"--------------------------------------------------\")\n",
        "  print(second_select_data)"
      ]
    },
    {
      "cell_type": "code",
      "execution_count": null,
      "metadata": {},
      "outputs": [
        {
          "name": "stdout",
          "output_type": "stream",
          "text": [
            "[[13, '쑥떡', '곡류 및 서류'], [29, '제주도 빙떡 & 귤간장소스', '곡류 및 서류'], [44, '망고 마카롱', '과자류'], [88, '바삭한 우리 찹쌀 모나카', '과자류'], [143, '로스티드 아몬드 앤 초콜릿', '과자류'], [212, '피넛버터쿠키', '과자류'], [253, '고등어석쇠구이', '구이류'], [276, '그릴 더 쏘&윙(소세지+윙)', '구이류'], [396, '사골만두국', '국 및 탕류'], [538, '저염 겉절이', '김치류'], [589, '돼지감자, 삶은것', '농축산물'], [646, '밤, 단택, 삶은것', '농축산물'], [651, '밤, 구운것', '농축산물'], [722, '메밀묵, 가루', '농축산물'], [755, '멥쌀, 백미, 해들, 생것', '농축산물'], [806, '멥쌀, 현미, 일품, 생것', '농축산물'], [924, '칼국수면, 생것', '농축산물'], [984, '보리, 겉보리, 큰알보리1호, 조곡, 생것', '농축산물'], [1043, '옥수수, 메옥수수, 청안옥, 말린것', '농축산물'], [1140, '귤, 만감류, 황금향, 생것', '농축산물'], [1192, '머루, 왕머루, 생것, 껍질과 씨 포함', '농축산물'], [1269, '살구, 잼', '농축산물'], [1390, '솔잎, 추출', '농축산물'], [1430, '오리알, 삶은것', '농축산물'], [1454, '설탕, 가루', '농축산물'], [1511, '두부', '농축산물'], [1514, '두부, 연두부', '농축산물'], [1550, '팥, 적색, 아라리, 말린것', '농축산물'], [1774, '돔, 돌돔, 생것', '농축산물'], [1855, '백연, 생것', '농축산물'], [2006, '잉어, 내장, 생것', '농축산물'], [2199, '조개, 키조개, 근육, 생것', '농축산물'], [2428, '닭고기, 살코기, 생것', '농축산물'], [2551, '햄, 슬라이스햄, 데친것', '농축산물'], [2570, '소고기, 한우, 등심, 삶은것', '농축산물'], [2880, '냉면, 물냉면', '농축산물'], [2895, '떡볶이', '농축산물'], [2935, '소고기버섯죽', '농축산물'], [2944, '스프, 소고기 스프, 가루, 끓인것', '농축산물'], [3022, '미소', '농축산물'], [3133, '대추차', '농축산물'], [3540, '시금치, 섬초, 생것', '농축산물'], [3642, '전호, 생것', '농축산물'], [3674, '취나물, 참취, 생것', '농축산물'], [3689, '콜라비, 생것', '농축산물'], [3764, '김, 김밥용김, 말린것', '농축산물'], [3811, '파래, 납작파래, 생것', '농축산물'], [3888, '치즈오븐스파게티', '면 및 만두류'], [3924, '바질 크림 빠네 파스타', '면 및 만두류'], [3956, '농어초밥', '밥류'], [3958, '문어초밥', '밥류'], [3980, '쇠고기주먹밥', '밥류'], [4096, '어묵잡채', '볶음류'], [4097, '어묵채소볶음', '볶음류'], [4117, '오삼불고기', '볶음류'], [4121, '돼지고기김치볶음', '볶음류'], [4153, '<더 이지>서울식 간장 닭갈비', '볶음류'], [4233, '플레인와플', '빵류'], [4241, '피넛버터브레드', '빵류'], [4314, '치즈롤', '빵류'], [4385, '크림치즈롤파이', '빵류'], [4445, '에그타르트', '빵류'], [4482, '맘모스빵 (소)', '빵류'], [4504, '크림치즈데니쉬', '빵류'], [4577, '로열 루비 초콜릿 링', '빵류'], [4709, '크리스피 오리엔탈 치킨버거', '빵류'], [4789, '손보다 빅버거', '빵류'], [4819, '올리브 치킨 파니니', '빵류'], [4967, '풀드포크', '빵류'], [5266, '그뤼에르 치즈 무스', '빵류'], [5296, '치즈 수플레 미니케익', '빵류'], [5419, '아이스크림 꽂힌 티라미스', '빵류'], [5971, '블랙앵거스 스테이크(슈퍼시드 함유 도우M)', '빵류'], [6123, '치즈킹(크런치)L', '빵류'], [6245, '트레비앙 치즈캡R', '빵류'], [6291, '포테이토 크림치즈R', '빵류'], [6297, '쉬림프 에그타르트R', '빵류'], [6422, '파스트라미 R', '빵류'], [6488, '모모스테이키L', '빵류'], [6513, '스윗고구마M', '빵류'], [6529, '불고기 크러스트L', '빵류'], [6639, '페페로니 L(리코타링)', '빵류'], [6641, '페페로니 G(석쇠)', '빵류'], [6690, '체다골드 포테이토 L(치즈링)', '빵류'], [6700, '깐쇼불갈비 L(골드스윗)', '빵류'], [6724, '올미트 골드링 씬(F)', '빵류'], [6737, '페퍼로니 오리지널®', '빵류'], [6817, '핫 치킨 바베큐 치즈롤(L)', '빵류'], [6854, '치킨 수퍼 파파스 치즈롤(F)', '빵류'], [6878, '식스 치즈 씬(F)', '빵류'], [6929, '감바스 피자 골드링(P)', '빵류'], [6962, '아이리쉬포테이토피자오리지널', '빵류'], [7028, '치즈바이트피자 XL', '빵류'], [7283, '페퍼로니(M)', '빵류'], [7297, '슈퍼슈프림(L)', '빵류'], [7415, '허브치킨 가든샐러드', '생채및 무침류'], [7465, '양배추샐러드', '생채및 무침류'], [7494, '북어채무침', '생채및 무침류'], [7538, '밤송이게', '수산물'], [7668, '살오징어-암컷', '수산물']]\n"
          ]
        }
      ],
      "source": [
        "import pandas as pd\n",
        "import random\n",
        "\n",
        "# CSV 파일 읽기\n",
        "df = pd.read_csv(PATH_NAME+ \"wweia_food_categories_addtl.csv\")\n",
        "\n",
        "# 100개의 랜덤한 번호 선택\n",
        "random_numbers = random.sample(range(1, 7684), 100)\n",
        "\n",
        "# 선택된 번호에 해당하는 데이터 가져오기\n",
        "selected_data = df[df['NO'].isin(random_numbers)]\n",
        "\n",
        "\n",
        "# 필요한 열만 선택하여 리스트로 변환\n",
        "food_list = selected_data[['NO', '식품명', '식품대분류']].values.tolist()\n",
        "\n",
        "# 결과 출력\n",
        "print(food_list)\n"
      ]
    },
    {
      "cell_type": "code",
      "execution_count": null,
      "metadata": {},
      "outputs": [
        {
          "name": "stdout",
          "output_type": "stream",
          "text": [
            "        NO             식품명    식품대분류  식품상세분류\n",
            "12      13              쑥떡  곡류 및 서류      떡류\n",
            "28      29  제주도 빙떡 & 귤간장소스  곡류 및 서류      떡류\n",
            "43      44          망고 마카롱      과자류  기타 과자류\n",
            "87      88   바삭한 우리 찹쌀 모나카      과자류  기타 과자류\n",
            "142    143  로스티드 아몬드 앤 초콜릿      과자류    초콜릿류\n",
            "...    ...             ...      ...     ...\n",
            "7414  7415      허브치킨 가든샐러드  생채및 무침류     샐러드\n",
            "7464  7465          양배추샐러드  생채및 무침류     샐러드\n",
            "7493  7494           북어채무침  생채및 무침류   어패류무침\n",
            "7537  7538            밤송이게      수산물     갑각류\n",
            "7667  7668         살오징어-암컷      수산물     두족류\n",
            "\n",
            "[100 rows x 4 columns]\n",
            "--------------------------------------------------\n",
            "true 출력 \n",
            "{4096, 4097, 2570, 13, 1550, 1043, 4117, 4121, 538, 29, 6690, 44, 6700, 4153, 3642, 3133, 6724, 589, 6737, 88, 3674, 4709, 6245, 3689, 7283, 1140, 7297, 646, 4233, 651, 143, 4241, 5266, 6291, 2199, 6297, 6817, 1192, 5296, 3764, 4789, 6854, 722, 4819, 212, 4314, 6878, 3811, 1774, 755, 1269, 7415, 253, 6929, 276, 6422, 4385, 806, 7465, 5419, 3888, 6962, 1855, 2880, 7494, 2895, 5971, 3924, 6488, 4445, 4967, 1390, 6513, 7538, 3956, 7028, 3958, 2935, 2428, 2944, 6529, 4482, 396, 3980, 1430, 4504, 924, 1454, 3022, 3540, 2006, 984, 4577, 1511, 1514, 6123, 6639, 6641, 7668, 2551}\n",
            "pred 출력 \n",
            "{1, 515, 3, 263, 392, 265, 266, 652, 398, 15, 1295, 144, 143, 147, 403, 532, 1431, 24, 281, 26, 537, 284, 283, 159, 161, 418, 36, 805, 39, 2088, 552, 172, 174, 431, 48, 49, 51, 180, 181, 1462, 53, 54, 60, 191, 196, 325, 71, 72, 329, 75, 76, 77, 591, 464, 211, 1368, 345, 90, 89, 221, 95, 991, 353, 356, 102, 358, 104, 234, 491, 113, 371, 628, 1658}\n",
            "--------------------------------------------------\n",
            "        NO             식품명    식품대분류  식품상세분류\n",
            "12      13              쑥떡  곡류 및 서류      떡류\n",
            "28      29  제주도 빙떡 & 귤간장소스  곡류 및 서류      떡류\n",
            "43      44          망고 마카롱      과자류  기타 과자류\n",
            "87      88   바삭한 우리 찹쌀 모나카      과자류  기타 과자류\n",
            "142    143  로스티드 아몬드 앤 초콜릿      과자류    초콜릿류\n",
            "...    ...             ...      ...     ...\n",
            "7414  7415      허브치킨 가든샐러드  생채및 무침류     샐러드\n",
            "7464  7465          양배추샐러드  생채및 무침류     샐러드\n",
            "7493  7494           북어채무침  생채및 무침류   어패류무침\n",
            "7537  7538            밤송이게      수산물     갑각류\n",
            "7667  7668         살오징어-암컷      수산물     두족류\n",
            "\n",
            "[100 rows x 4 columns]\n",
            "--------------------------------------------------\n",
            "        NO             식품명    식품대분류        식품상세분류\n",
            "0        1            메밀전병  곡류 및 서류       곡류 및 서류\n",
            "2        3              약식  곡류 및 서류       곡류 및 서류\n",
            "14      15             찹쌀떡  곡류 및 서류            떡류\n",
            "23      24             인절미  곡류 및 서류            떡류\n",
            "25      26            참깨경단  곡류 및 서류            떡류\n",
            "...    ...             ...      ...           ...\n",
            "1367  1368             포도즙     농축산물           과실류\n",
            "1430  1431     오리알, 난백, 생것     농축산물            난류\n",
            "1461  1462           양갱, 팥     농축산물            당류\n",
            "1657  1658  가오리, 전기가오리, 생것     농축산물  어패류 및 기타 수산물\n",
            "2087  2088    횟대, 빨간횟대, 생것     농축산물  어패류 및 기타 수산물\n",
            "\n",
            "[73 rows x 4 columns]\n"
          ]
        }
      ],
      "source": [
        "two_dimensional_array = [\n",
        "    [1, \"메밀전병\", \"곡류 및 서류\"],\n",
        "    [2, \"약식\", \"곡류 및 서류\"],\n",
        "    [3, \"무지개떡\", \"곡류 및 서류\"],\n",
        "    [45, \"초코 마카롱\", \"과자류\"],\n",
        "    [106, \"레몬머랭\", \"과자류\"],\n",
        "    [105, \"코코넛머랭\", \"과자류\"],\n",
        "    [335, \"홍합미역국\", \"국 및 탕류\"]\n",
        "]\n",
        "food_recommandation(food_list)"
      ]
    }
  ],
  "metadata": {
    "colab": {
      "collapsed_sections": [],
      "name": "LFP_Method_4.ipynb",
      "provenance": []
    },
    "kernelspec": {
      "display_name": "Python 3",
      "name": "python3"
    },
    "language_info": {
      "codemirror_mode": {
        "name": "ipython",
        "version": 3
      },
      "file_extension": ".py",
      "mimetype": "text/x-python",
      "name": "python",
      "nbconvert_exporter": "python",
      "pygments_lexer": "ipython3",
      "version": "3.10.10"
    }
  },
  "nbformat": 4,
  "nbformat_minor": 0
}
