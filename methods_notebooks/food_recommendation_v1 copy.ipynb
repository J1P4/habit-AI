{
  "cells": [
    {
      "cell_type": "code",
      "execution_count": 86,
      "metadata": {
        "id": "P1Bog3JiKrLT"
      },
      "outputs": [],
      "source": [
        "# PATH_NAME = 'C:/Users/gkstk/OneDrive/Desktop/SangMin/Github/AI/data/'\n",
        "# PATH_NAME2 = 'C:/Users/gkstk/OneDrive/Desktop/SangMin/Github/AI/'\n"
      ]
    },
    {
      "cell_type": "code",
      "execution_count": 87,
      "metadata": {},
      "outputs": [],
      "source": [
        "PATH_NAME = 'C:/Users/woobi/Documents/habit-AI/data/'\n",
        "PATH_NAME2 = 'C:/Users/woobi/Documents/habit-AI/'"
      ]
    },
    {
      "cell_type": "code",
      "execution_count": 88,
      "metadata": {
        "id": "j8EftDfLBQ-Z"
      },
      "outputs": [],
      "source": [
        "import pandas as pd\n",
        "import numpy as np\n",
        "import re\n",
        "from konlpy.tag import Okt\n",
        "from gensim.models import KeyedVectors\n",
        "from sklearn.metrics.pairwise import cosine_similarity\n",
        "from collections import defaultdict\n",
        "import pickle\n",
        "import math\n",
        "from collections import Counter"
      ]
    },
    {
      "cell_type": "code",
      "execution_count": 96,
      "metadata": {
        "id": "RIVlLNXkWxcy"
      },
      "outputs": [],
      "source": [
        "model = KeyedVectors.load(PATH_NAME + \"한국어_음식모델_한상민.kv\", mmap='r')\n",
        "\n",
        "with open(PATH_NAME + 'wweia_synonym_cats.pickle', 'rb') as handle:\n",
        "  wweia_synonym_cats = pickle.load(handle)\n",
        "  \n",
        "wweia_food_categories = pd.read_csv(PATH_NAME + 'wweia_food_categories_addtl.csv')\n",
        "wweia_data = pd.read_csv(PATH_NAME + 'wweia_data.csv')\n",
        "wweia_embeddings = pd.read_csv(PATH_NAME + 'word_embeddings.csv', delimiter = \",\")"
      ]
    },
    {
      "cell_type": "code",
      "execution_count": 90,
      "metadata": {
        "id": "jcOunKLxkU7B"
      },
      "outputs": [],
      "source": [
        "stop_words = ['가', '걍', '것', '고', '과', '는', '도', '들', '등', '때', '로', '를', '뿐', '수', '아니', '않', '없', '에', '에게', '와', '으로', '은', '의', '이', '이다', '있', '자', '잘', '좀', '하다', '한', '조각', '개', '것', '대', '소' ,'단계', '등급', '포함', '미니', '개입']"
      ]
    },
    {
      "cell_type": "code",
      "execution_count": 91,
      "metadata": {
        "id": "MolpFYY6HRQ8"
      },
      "outputs": [],
      "source": [
        "def reduce_with_food_words(rough_phrase):\n",
        "  korean_string = re.sub(\"[^ㄱ-ㅎㅏ-ㅣ가-힣 ]\", \" \", rough_phrase)\n",
        "  okt = Okt()\n",
        "  token = okt.morphs(korean_string, stem=True)\n",
        "  \n",
        "  return token"
      ]
    },
    {
      "cell_type": "code",
      "execution_count": 92,
      "metadata": {
        "id": "gsj1bLfb8LFK"
      },
      "outputs": [],
      "source": [
        "def process_food_log(curr_log, wweia_synonym_cats):\n",
        "  curr_log['predicted_categories_number'] = 0\n",
        "  curr_log['predicted_categories_words'] = \"\"\n",
        "  curr_log['max_cosim_score'] = 0\n",
        "  curr_log['most_sim_food'] = \"\"\n",
        "  curr_log['reciprocal_rank'] = 0.0\n",
        "  curr_log['sym_reciprocal_rank'] = 0.0\n",
        "\n",
        "  for i in range(curr_log.shape[0]):\n",
        "    food_name = curr_log.loc[i, 'Food Name']\n",
        "    pre_embedding = reduce_with_food_words(food_name)\n",
        "\n",
        "    word_embed = np.zeros(shape = (1, len(model[\"불고기\"])))\n",
        "    if len(pre_embedding) > 0:\n",
        "      \n",
        "      num_words = 0\n",
        "      for word in pre_embedding:\n",
        "        word = word.lower()\n",
        "        \n",
        "        if word in model:\n",
        "          num_words += 1\n",
        "          word_embed += model[word]\n",
        "\n",
        "      if num_words != 0:\n",
        "        word_embed /= num_words\n",
        "    \n",
        "    # print(\"음식 이름\")\n",
        "    # print(food_name)\n",
        "    # print(\"프리임베딩\")\n",
        "    # print(pre_embedding)\n",
        "    # print(word_embed)\n",
        "    # print('\\n')\n",
        "    \n",
        "    similarities = cosine_similarity(word_embed, wweia_embeddings)\n",
        "    to_keep = np.sort(similarities, axis=1)\n",
        "    to_keep_args = np.argsort(similarities, axis=1)\n",
        "    indices = np.flip(to_keep_args, axis = 1)\n",
        "    \n",
        "    sym_rank = 1000000\n",
        "    for index in range(indices.shape[1]):\n",
        "      true_cat = curr_log.loc[i, 'wweia_food_category_code']\n",
        "      if math.isnan(true_cat): continue\n",
        "      if wweia_data.loc[indices[0,index], 'NO'] == true_cat:\n",
        "        rank = index\n",
        "        rr = 1 / (rank+1)\n",
        "        if sym_rank > rank:\n",
        "          sym_rank = rank\n",
        "          sym_rr = 1 / (rank+1)\n",
        "        break\n",
        "      else:\n",
        "        \n",
        "        if wweia_data.loc[indices[0,index], 'NO'] in wweia_synonym_cats[true_cat]:\n",
        "          if sym_rank > index:\n",
        "            sym_rank = index\n",
        "            sym_rr = 1 / (index+1)\n",
        "    most_sim_food_index = indices[0,0]\n",
        "\n",
        "    most_sim_food_row = wweia_data.iloc[most_sim_food_index, :]\n",
        "    highest_cat_num = most_sim_food_row['NO']\n",
        "    highest_cat_words = wweia_food_categories.loc[wweia_food_categories['NO'] == highest_cat_num, '식품명']\n",
        "    curr_log.loc[i, 'predicted_categories_number'] = highest_cat_num\n",
        "    curr_log.loc[i, 'predicted_categories_words'] = highest_cat_words.to_list()[0]\n",
        "    curr_log.loc[i, 'max_cosim_score'] = np.array2string(to_keep[0,-5:])\n",
        "    curr_log.loc[i, 'most_sim_food'] = most_sim_food_row['식품명']\n",
        "    curr_log.loc[i, 'reciprocal_rank'] = rr\n",
        "    curr_log.loc[i, 'sym_reciprocal_rank'] = sym_rr\n",
        "    \n",
        "  return curr_log"
      ]
    },
    {
      "cell_type": "code",
      "execution_count": 93,
      "metadata": {
        "colab": {
          "base_uri": "https://localhost:8080/"
        },
        "id": "0uDmhnMi_VRc",
        "outputId": "e54ea183-57ca-45af-8f31-46ab1bce5ebb"
      },
      "outputs": [],
      "source": [
        "# Main method\n",
        "def food_recommandation(input_food_list) :\n",
        "  df = pd.read_csv(PATH_NAME+ \"wweia_food_categories_addtl.csv\")\n",
        "  \n",
        "  numbers = [item[0] for item in input_food_list]\n",
        "  input_data = df[df['NO'].isin(numbers)]\n",
        "  print(input_data)\n",
        "  print(\"--------------------------------------------------\")\n",
        "  \n",
        "  input_list= [\"wweia_food_category_code\", \"Food Name\", \"wweia_food_category_description\"]\n",
        "  curr_log = pd.DataFrame(input_food_list, columns=input_list)\n",
        "  \n",
        "  curr_log = process_food_log(curr_log, wweia_synonym_cats)\n",
        "\n",
        "  print(\"true 출력 \")\n",
        "  first_list = set(curr_log.loc[:,'wweia_food_category_code'].tolist())\n",
        "  first_select_data = df[df['NO'].isin(first_list)]\n",
        "  print(first_list)\n",
        "  \n",
        "  second_list = set(curr_log.loc[:,'predicted_categories_number'].tolist())\n",
        "  second_select_data = df[df['NO'].isin(second_list)]\n",
        "  print(\"pred 출력 \")\n",
        "  print(second_list)\n",
        "  \n",
        "  print(\"--------------------------------------------------\")\n",
        "  print(first_select_data)\n",
        "  print(\"--------------------------------------------------\")\n",
        "  print(second_select_data)"
      ]
    },
    {
      "cell_type": "code",
      "execution_count": 94,
      "metadata": {},
      "outputs": [
        {
          "name": "stdout",
          "output_type": "stream",
          "text": [
            "[[39, '프리백', '과자류'], [152, '애니멀 쇼콜라', '과자류'], [177, '버터 가득 라이스 쿠키', '과자류'], [259, '조기구이', '구이류'], [499, '흑미도우', '기타'], [630, '땅콩, 삶은것, 소금첨가', '농축산물'], [689, '피스타치오, 볶은것', '농축산물'], [697, '호두, 볶은것', '농축산물'], [731, '멥쌀, 백미, 보람찬, 생것', '농축산물'], [1173, '롱안, 생것', '농축산물'], [1226, '보리밥 열매, 말린것', '농축산물'], [1312, '잭프루트, 통조림', '농축산물'], [1317, '체리, 통조림, 고형물', '농축산물'], [1320, '크랜베리, 말린것, 가당', '농축산물'], [1417, '달걀, 부침(달걀프라이)', '농축산물'], [1472, '조청, 오가피', '농축산물'], [1526, '동부, 수입산, 삶은것', '농축산물'], [1534, '완두, 삶은것', '농축산물'], [1593, '버들송이버섯, 갓, 말린것', '농축산물'], [1600, '상황버섯, 추출', '농축산물'], [1617, '영지버섯, 추출', '농축산물'], [1694, '까나리, 삶아서 말린것', '농축산물'], [1703, '꽁치, 통조림', '농축산물'], [1715, '노래미, 줄노래미, 생것', '농축산물'], [1744, '대구, 암컷, 생것', '농축산물'], [1802, '드렁허리, 생것', '농축산물'], [1922, '상어, 별상어, 생것', '농축산물'], [2004, '잉어, 생것', '농축산물'], [2445, '닭고기, 다리(아랫다리), 생것', '농축산물'], [2524, '돼지 부산물, 심장(염통), 생것', '농축산물'], [2612, '소고기, 한우(1++등급), 양지(업진살), 생것', '농축산물'], [2838, '토끼고기, 살코기, 생것', '농축산물'], [2860, '탄산 음료, 파인애플소다', '농축산물'], [2924, '사골국, 인스턴트', '농축산물'], [2970, '초밥, 모듬 초밥', '농축산물'], [2991, '호박죽', '농축산물'], [2997, '계피, 가루', '농축산물'], [3021, '맛술', '농축산물'], [3243, '고추, 오이고추, 생것', '농축산물'], [3342, '마늘, 동결건조', '농축산물'], [3366, '모링가(드럼스틱), 생것', '농축산물'], [3467, '브로콜리, 싹, 생것', '농축산물'], [3590, '양파, 샬롯, 생것', '농축산물'], [3622, '옥수수, 순, 생것', '농축산물'], [3775, '다시마 육수', '농축산물'], [3884, '치즈까르보나라 스파게티', '면 및 만두류'], [3966, '연어롤', '밥류'], [4008, '낙지리조또', '밥류'], [4015, '스파이시 씨푸드 리조또', '밥류'], [4058, '신림동 백순대볶음', '볶음류'], [4171, '마파두부', '볶음류'], [4294, '애플 시나몬 크럼블', '빵류'], [4389, '호밀호두빵(대)', '빵류'], [4421, '순수(秀) 우유 후레쉬번', '빵류'], [4578, '더블 다크 초콜릿 필드', '빵류'], [4710, '치즈버거', '빵류'], [4716, '베이컨 토마토 머핀', '빵류'], [4725, '롱치킨버거', '빵류'], [4759, '햄버거', '빵류'], [4769, '화이트갈릭버거', '빵류'], [4778, '타워버거', '빵류'], [5092, '블루베리 베이글', '빵류'], [5228, '비 마이 스트로베리', '빵류'], [5376, '떠먹는 롤케익(초코)', '빵류'], [5437, '카스테라구마', '빵류'], [5439, '스트로베리 요거트무스 케이크', '빵류'], [5451, '마카롱쇼콜라', '빵류'], [5489, '블루베리쉬폰', '빵류'], [5523, '명가명품 제주 천혜향 카스테라', '빵류'], [5586, '초코쉬폰2호B', '빵류'], [5611, '수플레치즈타임', '빵류'], [5666, '생크림케이크4호A', '빵류'], [5672, '초코패밀리케익5호', '빵류'], [5675, '고구마케이크(조각)', '빵류'], [5709, '초코무스케익', '빵류'], [5710, '치즈케익', '빵류'], [5999, '슈퍼슈프림(씬 M)', '빵류'], [6101, '쉬림프올인(클래식)L', '빵류'], [6139, '갈릭마블 스테이크(치즈크러스트)L', '빵류'], [6234, '치우천왕 노엣지L', '빵류'], [6284, '로맨틱콤보 오리진L', '빵류'], [6365, '눈꽃치즈피자 L', '빵류'], [6408, '페퍼로니 L', '빵류'], [6429, '크림치즈 크러스트', '빵류'], [6448, '웃음꽃피자R', '빵류'], [6649, '칠리새우 L(석쇠)', '빵류'], [6662, '놀부단호박 R(치즈링)', '빵류'], [6851, '치킨 수퍼 파파스 골드링(F)', '빵류'], [6917, '갈릭 페퍼 스테이크 골드링(F)', '빵류'], [7013, '프리미엄불고기피자 L', '빵류'], [7273, '베이컨포테이토피자', '빵류'], [7319, '쉬림프디럭스(M)', '빵류'], [7343, '아메리칸스페셜(L)', '빵류'], [7381, '열무겉절이', '생채및 무침류'], [7397, '퀴노아 치킨 샐러드', '생채및 무침류'], [7495, '오징어무침', '생채및 무침류'], [7524, '닭새우', '수산물'], [7529, '대하', '수산물'], [7563, '주름송편게', '수산물'], [7671, '살오징어-암컷', '수산물']]\n"
          ]
        }
      ],
      "source": [
        "import pandas as pd\n",
        "import random\n",
        "\n",
        "# CSV 파일 읽기\n",
        "df = pd.read_csv(PATH_NAME+ \"wweia_food_categories_addtl.csv\")\n",
        "\n",
        "# 100개의 랜덤한 번호 선택\n",
        "random_numbers = random.sample(range(1, 7684), 100)\n",
        "\n",
        "# 선택된 번호에 해당하는 데이터 가져오기\n",
        "selected_data = df[df['NO'].isin(random_numbers)]\n",
        "\n",
        "\n",
        "# 필요한 열만 선택하여 리스트로 변환\n",
        "food_list = selected_data[['NO', '식품명', '식품대분류']].values.tolist()\n",
        "\n",
        "# 결과 출력\n",
        "print(food_list)\n"
      ]
    },
    {
      "cell_type": "code",
      "execution_count": 98,
      "metadata": {},
      "outputs": [
        {
          "name": "stdout",
          "output_type": "stream",
          "text": [
            "      NO     식품명    식품대분류   식품상세분류\n",
            "0      1    메밀전병  곡류 및 서류  곡류 및 서류\n",
            "1      2   수수부꾸미  곡류 및 서류  곡류 및 서류\n",
            "2      3      약식  곡류 및 서류  곡류 및 서류\n",
            "44    45  초코 마카롱      과자류   기타 과자류\n",
            "104  105   코코넛머랭      과자류   기타 과자류\n",
            "105  106    레몬머랭      과자류   기타 과자류\n",
            "334  335   홍합미역국   국 및 탕류   어패류국.탕\n",
            "--------------------------------------------------\n"
          ]
        },
        {
          "name": "stderr",
          "output_type": "stream",
          "text": [
            "C:\\Users\\woobi\\AppData\\Local\\Temp\\ipykernel_21572\\3713454628.py:63: FutureWarning: Setting an item of incompatible dtype is deprecated and will raise an error in a future version of pandas. Value '[0.99717492 0.9972011  0.99731398 0.99734617 0.99830991]' has dtype incompatible with int64, please explicitly cast to a compatible dtype first.\n",
            "  curr_log.loc[i, 'max_cosim_score'] = np.array2string(to_keep[0,-5:])\n"
          ]
        },
        {
          "name": "stdout",
          "output_type": "stream",
          "text": [
            "true 출력 \n",
            "{1, 2, 3, 105, 106, 45, 335}\n",
            "pred 출력 \n",
            "{9, 237, 816, 2288, 55, 701, 2015}\n",
            "--------------------------------------------------\n",
            "      NO     식품명    식품대분류   식품상세분류\n",
            "0      1    메밀전병  곡류 및 서류  곡류 및 서류\n",
            "1      2   수수부꾸미  곡류 및 서류  곡류 및 서류\n",
            "2      3      약식  곡류 및 서류  곡류 및 서류\n",
            "44    45  초코 마카롱      과자류   기타 과자류\n",
            "104  105   코코넛머랭      과자류   기타 과자류\n",
            "105  106    레몬머랭      과자류   기타 과자류\n",
            "334  335   홍합미역국   국 및 탕류   어패류국.탕\n",
            "--------------------------------------------------\n",
            "        NO                      식품명    식품대분류        식품상세분류\n",
            "8        9                    송편(깨)  곡류 및 서류            떡류\n",
            "54      55                  초코롱 산딸기      과자류        기타 과자류\n",
            "236    237  3mm 황금비율로 바삭하고 고소한 전병세트      과자류           한과류\n",
            "700    701          귀리, 쌀귀리, 도정, 생것     농축산물     곡류 및 그 제품\n",
            "815    816          멥쌀, 현미, 해담쌀, 생것     농축산물     곡류 및 그 제품\n",
            "2014  2015           장어, 뱀장어, 간, 생것     농축산물  어패류 및 기타 수산물\n",
            "2287  2288               새우, 젓갈, 추젓     농축산물  어패류 및 기타 수산물\n"
          ]
        }
      ],
      "source": [
        "two_dimensional_array = [\n",
        "    [1, \"메밀전병\", \"곡류 및 서류\"],\n",
        "    [2, \"약식\", \"곡류 및 서류\"],\n",
        "    [3, \"무지개떡\", \"곡류 및 서류\"],\n",
        "    [45, \"초코 마카롱\", \"과자류\"],\n",
        "    [106, \"레몬머랭\", \"과자류\"],\n",
        "    [105, \"코코넛머랭\", \"과자류\"],\n",
        "    [335, \"홍합미역국\", \"국 및 탕류\"]\n",
        "]\n",
        "food_recommandation(two_dimensional_array)"
      ]
    }
  ],
  "metadata": {
    "colab": {
      "collapsed_sections": [],
      "name": "LFP_Method_4.ipynb",
      "provenance": []
    },
    "kernelspec": {
      "display_name": "Python 3",
      "name": "python3"
    },
    "language_info": {
      "codemirror_mode": {
        "name": "ipython",
        "version": 3
      },
      "file_extension": ".py",
      "mimetype": "text/x-python",
      "name": "python",
      "nbconvert_exporter": "python",
      "pygments_lexer": "ipython3",
      "version": "3.10.10"
    }
  },
  "nbformat": 4,
  "nbformat_minor": 0
}
