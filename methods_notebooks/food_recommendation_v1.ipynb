{
  "cells": [
    {
      "cell_type": "code",
      "execution_count": 12,
      "metadata": {
        "id": "P1Bog3JiKrLT"
      },
      "outputs": [],
      "source": [
        "# PATH_NAME = 'C:/Users/gkstk/OneDrive/Desktop/SangMin/Github/AI/data/'\n",
        "# PATH_NAME2 = 'C:/Users/gkstk/OneDrive/Desktop/SangMin/Github/AI/'\n"
      ]
    },
    {
      "cell_type": "code",
      "execution_count": null,
      "metadata": {},
      "outputs": [],
      "source": [
        "PATH_NAME = 'C:/Users/woobi/Documents/LearningFoodPreferences2/data/'\n",
        "PATH_NAME2 = 'C:/Users/woobi/Documents/LearningFoodPreferences2/'"
      ]
    },
    {
      "cell_type": "code",
      "execution_count": 13,
      "metadata": {
        "colab": {
          "base_uri": "https://localhost:8080/"
        },
        "id": "uahJRoOGKdr1",
        "outputId": "53d6a2e3-1a1a-47ec-dbd6-0bb443ab5b88"
      },
      "outputs": [
        {
          "name": "stderr",
          "output_type": "stream",
          "text": [
            "[nltk_data] Downloading package wordnet to\n",
            "[nltk_data]     C:\\Users\\gkstk\\AppData\\Roaming\\nltk_data...\n",
            "[nltk_data]   Package wordnet is already up-to-date!\n"
          ]
        },
        {
          "data": {
            "text/plain": [
              "True"
            ]
          },
          "execution_count": 13,
          "metadata": {},
          "output_type": "execute_result"
        }
      ],
      "source": [
        "import nltk\n",
        "nltk.download('wordnet')"
      ]
    },
    {
      "cell_type": "code",
      "execution_count": 14,
      "metadata": {
        "id": "j8EftDfLBQ-Z"
      },
      "outputs": [],
      "source": [
        "import pandas as pd\n",
        "import numpy as np\n",
        "import re\n",
        "from konlpy.tag import Okt\n",
        "from gensim.models import KeyedVectors\n",
        "from sklearn.metrics.pairwise import cosine_similarity\n",
        "from collections import defaultdict\n",
        "import pickle\n",
        "import math\n",
        "from collections import Counter"
      ]
    },
    {
      "cell_type": "code",
      "execution_count": 15,
      "metadata": {
        "id": "RIVlLNXkWxcy"
      },
      "outputs": [],
      "source": [
        "model = KeyedVectors.load(PATH_NAME + \"한국어_음식모델_한상민.kv\", mmap='r')\n",
        "\n",
        "with open(PATH_NAME + 'wweia_synonym_cats.pickle', 'rb') as handle:\n",
        "  wweia_synonym_cats = pickle.load(handle)\n",
        "  \n",
        "wweia_food_categories = pd.read_csv(PATH_NAME + 'wweia_food_categories_addtl.csv')\n",
        "wweia_data = pd.read_csv(PATH_NAME + 'wweia_data.csv')"
      ]
    },
    {
      "cell_type": "code",
      "execution_count": 16,
      "metadata": {
        "colab": {
          "base_uri": "https://localhost:8080/"
        },
        "id": "N5AwqmRuvw2c",
        "outputId": "015b5670-c045-4bc1-ab96-6d625d0feec0"
      },
      "outputs": [
        {
          "data": {
            "text/plain": [
              "array([-1.70645416e-02, -3.61461681e-03,  8.80778488e-03, -1.13084717e-02,\n",
              "        1.48727577e-02, -4.35531605e-03, -4.19942942e-03,  1.63003020e-02,\n",
              "       -9.29594878e-03,  2.57301726e-05, -1.20856445e-02, -1.98923294e-02,\n",
              "       -6.91276789e-03,  1.94507930e-02,  7.37692462e-03, -1.49570396e-02,\n",
              "        5.67844929e-03, -8.31672829e-03, -1.82552461e-03, -9.48544033e-03,\n",
              "        1.92627385e-02, -6.15636306e-03, -3.39669385e-03,  7.84676615e-03,\n",
              "        6.40838360e-03,  1.17731579e-02,  7.05219153e-03, -7.66839506e-03,\n",
              "       -2.61669792e-03, -8.55937880e-03,  4.93752630e-03,  8.54510628e-03,\n",
              "       -1.34234093e-02, -1.25254430e-02, -6.64528925e-03, -8.66752956e-03,\n",
              "       -3.22204502e-03,  2.94499972e-04,  5.67830401e-04, -1.99864544e-02,\n",
              "       -1.42542869e-02, -5.63145429e-03,  5.94050810e-03, -8.85985047e-03,\n",
              "        1.78560801e-02, -7.92126358e-03, -1.00456756e-02, -3.88140877e-04,\n",
              "        7.83004425e-03,  1.01383701e-02,  4.05120663e-03, -1.22793429e-02,\n",
              "       -1.59502551e-02, -1.90265162e-03,  3.35318706e-04, -6.42351853e-03,\n",
              "       -7.74280820e-03, -2.82745599e-03, -9.72560607e-03, -7.16026966e-03,\n",
              "        5.94625250e-04, -2.64272746e-03, -9.31448955e-03, -4.40711575e-03,\n",
              "       -1.51417404e-02,  4.32196399e-03, -2.90125026e-03,  6.32026792e-03,\n",
              "       -8.68947059e-03,  7.22656725e-03, -5.10660140e-03,  1.76088717e-02,\n",
              "       -7.45902210e-03, -2.78802193e-03,  1.18195275e-02,  5.41527662e-03,\n",
              "        5.81463007e-03, -2.90016527e-03, -1.49134072e-02, -3.14090727e-03,\n",
              "       -5.38779562e-03,  8.90715455e-04, -1.02497032e-02,  2.29514334e-02,\n",
              "       -8.16804729e-03,  5.36107505e-03, -6.01546513e-03,  3.59972916e-03,\n",
              "        9.42397490e-03,  1.66490152e-02,  1.59530044e-02,  6.56988379e-03,\n",
              "       -1.40426951e-02,  6.96796365e-03,  7.55135342e-03,  1.82644483e-02,\n",
              "       -1.77565159e-03, -2.44111456e-02,  1.31303342e-02,  2.92472099e-03],\n",
              "      dtype=float32)"
            ]
          },
          "execution_count": 16,
          "metadata": {},
          "output_type": "execute_result"
        }
      ],
      "source": [
        "# Getting a sample of what an embedding looks like\n",
        "model[\"무지개떡\"]"
      ]
    },
    {
      "cell_type": "code",
      "execution_count": 17,
      "metadata": {
        "colab": {
          "base_uri": "https://localhost:8080/"
        },
        "id": "LjQybRlwRCek",
        "outputId": "a1029438-7545-46e1-f75d-203c268bbfd0"
      },
      "outputs": [
        {
          "data": {
            "text/plain": [
              "(3710, 100)"
            ]
          },
          "execution_count": 17,
          "metadata": {},
          "output_type": "execute_result"
        }
      ],
      "source": [
        "# Load embeddings\n",
        "wweia_embeddings = np.loadtxt(PATH_NAME + 'word_embeddings.csv', delimiter = \",\")\n",
        "wweia_embeddings.shape"
      ]
    },
    {
      "cell_type": "code",
      "execution_count": 18,
      "metadata": {
        "id": "jcOunKLxkU7B"
      },
      "outputs": [],
      "source": [
        "stop_words = ['가', '걍', '것', '고', '과', '는', '도', '들', '등', '때', '로', '를', '뿐', '수', '아니', '않', '없', '에', '에게', '와', '으로', '은', '의', '이', '이다', '있', '자', '잘', '좀', '하다', '한', '조각', '개', '것', '대', '소' ,'단계', '등급', '포함', '미니', '개입']"
      ]
    },
    {
      "cell_type": "code",
      "execution_count": 19,
      "metadata": {
        "id": "MolpFYY6HRQ8"
      },
      "outputs": [],
      "source": [
        "# Only keep words in phrase that are in food_words\n",
        "\n",
        "def reduce_with_food_words(rough_phrase):\n",
        "  korean_string = re.sub(\"[^ㄱ-ㅎㅏ-ㅣ가-힣 ]\", \" \", rough_phrase)\n",
        "  okt = Okt()\n",
        "  token = okt.morphs(korean_string, stem=True)\n",
        "  return token"
      ]
    },
    {
      "cell_type": "code",
      "execution_count": 20,
      "metadata": {
        "id": "gsj1bLfb8LFK"
      },
      "outputs": [],
      "source": [
        "# Format of food names seems to be (Optional) Company, Food, Details about food\n",
        "# run function to guess if first or second comma phrase has Food\n",
        "\n",
        "def process_food_log(curr_log, wweia_synonym_cats):\n",
        "  curr_log['predicted_categories_number'] = 0\n",
        "  curr_log['predicted_categories_words'] = \"\"\n",
        "  curr_log['max_cosim_score'] = 0\n",
        "  curr_log['most_sim_food'] = \"\"\n",
        "  curr_log['reciprocal_rank'] = 0.0\n",
        "  curr_log['sym_reciprocal_rank'] = 0.0\n",
        "\n",
        "  for i in range(curr_log.shape[0]):\n",
        "    food_name = curr_log.loc[i, 'Food Name']\n",
        "    pre_embedding = reduce_with_food_words(food_name)\n",
        "\n",
        "    word_embed = np.zeros(shape = (1, len(model[\"불고기\"])))\n",
        "    if len(pre_embedding) > 0:\n",
        "      \n",
        "      num_words = 0\n",
        "      for word in pre_embedding:\n",
        "        word = word.lower()\n",
        "        \n",
        "        if word in model:\n",
        "          num_words += 1\n",
        "          word_embed += model[word]\n",
        "\n",
        "      if num_words != 0:\n",
        "        word_embed /= num_words\n",
        "    \n",
        "    # print(\"음식 이름\")\n",
        "    # print(food_name)\n",
        "    # print(\"프리임베딩\")\n",
        "    # print(pre_embedding)\n",
        "    # print(word_embed)\n",
        "    # print('\\n')\n",
        "    \n",
        "    similarities = cosine_similarity(word_embed, wweia_embeddings)\n",
        "    to_keep = np.sort(similarities, axis=1)\n",
        "    to_keep_args = np.argsort(similarities, axis=1)\n",
        "    indices = np.flip(to_keep_args, axis = 1)\n",
        "    \n",
        "    sym_rank = 1000000\n",
        "    for index in range(indices.shape[1]):\n",
        "      true_cat = curr_log.loc[i, 'wweia_food_category_code']\n",
        "      if math.isnan(true_cat): continue\n",
        "      if wweia_data.loc[indices[0,index], 'NO'] == true_cat:\n",
        "        rank = index\n",
        "        rr = 1 / (rank+1)\n",
        "        if sym_rank > rank:\n",
        "          sym_rank = rank\n",
        "          sym_rr = 1 / (rank+1)\n",
        "        break\n",
        "      else:\n",
        "        \n",
        "        if wweia_data.loc[indices[0,index], 'NO'] in wweia_synonym_cats[true_cat]:\n",
        "          if sym_rank > index:\n",
        "            sym_rank = index\n",
        "            sym_rr = 1 / (index+1)\n",
        "    most_sim_food_index = indices[0,0]\n",
        "\n",
        "    most_sim_food_row = wweia_data.iloc[most_sim_food_index, :]\n",
        "    highest_cat_num = most_sim_food_row['NO']\n",
        "    highest_cat_words = wweia_food_categories.loc[wweia_food_categories['NO'] == highest_cat_num, '식품명']\n",
        "    curr_log.loc[i, 'predicted_categories_number'] = highest_cat_num\n",
        "    curr_log.loc[i, 'predicted_categories_words'] = highest_cat_words.to_list()[0]\n",
        "    curr_log.loc[i, 'max_cosim_score'] = np.array2string(to_keep[0,-5:])\n",
        "    curr_log.loc[i, 'most_sim_food'] = most_sim_food_row['식품명']\n",
        "    curr_log.loc[i, 'reciprocal_rank'] = rr\n",
        "    curr_log.loc[i, 'sym_reciprocal_rank'] = sym_rr\n",
        "  return curr_log"
      ]
    },
    {
      "cell_type": "code",
      "execution_count": 21,
      "metadata": {
        "colab": {
          "base_uri": "https://localhost:8080/"
        },
        "id": "0uDmhnMi_VRc",
        "outputId": "e54ea183-57ca-45af-8f31-46ab1bce5ebb"
      },
      "outputs": [],
      "source": [
        "# Main method\n",
        "def food_recommandation(input_food_list) :\n",
        "\n",
        "  input_list= [\"wweia_food_category_code\", \"Food Name\", \"wweia_food_category_description\"]\n",
        "  curr_log = pd.DataFrame(input_food_list, columns=input_list)\n",
        "  \n",
        "  curr_log = process_food_log(curr_log, wweia_synonym_cats)\n",
        "\n",
        "  print(\"true 출력 \")\n",
        "  print(set(curr_log.loc[:,'wweia_food_category_code'].tolist()))\n",
        "\n",
        "  print(\"pred 출력 \")\n",
        "  print(set(curr_log.loc[:,'predicted_categories_number'].tolist()))\n",
        "  \n",
        "  "
      ]
    },
    {
      "cell_type": "code",
      "execution_count": 22,
      "metadata": {},
      "outputs": [
        {
          "name": "stdout",
          "output_type": "stream",
          "text": [
            "-0.08781616389751434\n",
            "-0.015493202954530716\n",
            "-0.017064541578292847\n"
          ]
        },
        {
          "name": "stderr",
          "output_type": "stream",
          "text": [
            "C:\\Users\\gkstk\\AppData\\Local\\Temp\\ipykernel_23852\\684523104.py:67: FutureWarning: Setting an item of incompatible dtype is deprecated and will raise in a future error of pandas. Value '[0.99717492 0.9972011  0.99731398 0.99734617 0.99830991]' has dtype incompatible with int64, please explicitly cast to a compatible dtype first.\n",
            "  curr_log.loc[i, 'max_cosim_score'] = np.array2string(to_keep[0,-5:])\n"
          ]
        },
        {
          "name": "stdout",
          "output_type": "stream",
          "text": [
            "-0.21947618573904037\n",
            "-0.10551625350490212\n",
            "-0.0896839709021151\n",
            "-0.09362020716071129\n",
            "true 출력 \n",
            "{1, 2, 3, 105, 106, 45, 335}\n",
            "pred 출력 \n",
            "{2016, 10, 238, 817, 2289, 56, 702}\n"
          ]
        }
      ],
      "source": [
        "two_dimensional_array = [\n",
        "    [1, \"메밀전병\", \"곡류 및 서류\"],\n",
        "    [2, \"약식\", \"곡류 및 서류\"],\n",
        "    [3, \"무지개떡\", \"곡류 및 서류\"],\n",
        "    [45, \"초코 마카롱\", \"과자류\"],\n",
        "    [106, \"레몬머랭\", \"과자류\"],\n",
        "    [105, \"코코넛머랭\", \"과자류\"],\n",
        "    [335, \"홍합미역국\", \"국 및 탕류\"]\n",
        "]\n",
        "food_recommandation(two_dimensional_array)"
      ]
    }
  ],
  "metadata": {
    "colab": {
      "collapsed_sections": [],
      "name": "LFP_Method_4.ipynb",
      "provenance": []
    },
    "kernelspec": {
      "display_name": "Python 3",
      "name": "python3"
    },
    "language_info": {
      "codemirror_mode": {
        "name": "ipython",
        "version": 3
      },
      "file_extension": ".py",
      "mimetype": "text/x-python",
      "name": "python",
      "nbconvert_exporter": "python",
      "pygments_lexer": "ipython3",
      "version": "3.11.8"
    }
  },
  "nbformat": 4,
  "nbformat_minor": 0
}
