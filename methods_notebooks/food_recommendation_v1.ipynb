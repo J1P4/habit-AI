{
  "cells": [
    {
      "cell_type": "code",
      "execution_count": 1,
      "metadata": {
        "id": "P1Bog3JiKrLT"
      },
      "outputs": [],
      "source": [
        "# PATH_NAME = 'C:/Users/gkstk/OneDrive/Desktop/SangMin/Github/AI/data/'\n",
        "# PATH_NAME2 = 'C:/Users/gkstk/OneDrive/Desktop/SangMin/Github/AI/'\n"
      ]
    },
    {
      "cell_type": "code",
      "execution_count": 2,
      "metadata": {},
      "outputs": [],
      "source": [
        "PATH_NAME = 'C:/Users/woobi/Documents/habit/habit-AI/data/'\n",
        "PATH_NAME2 = 'C:/Users/woobi/Documents/habit/habit-AI/'"
      ]
    },
    {
      "cell_type": "code",
      "execution_count": 3,
      "metadata": {
        "id": "j8EftDfLBQ-Z"
      },
      "outputs": [],
      "source": [
        "import pandas as pd\n",
        "import numpy as np\n",
        "import re\n",
        "from konlpy.tag import Okt\n",
        "from sklearn.metrics.pairwise import cosine_similarity\n",
        "from gensim.models import KeyedVectors\n",
        "import pickle\n",
        "import math"
      ]
    },
    {
      "cell_type": "code",
      "execution_count": 4,
      "metadata": {
        "id": "RIVlLNXkWxcy"
      },
      "outputs": [],
      "source": [
        "# 서버 실행시 한번만 로드 할 수 있도록 할 것\n",
        "model = KeyedVectors.load(PATH_NAME + \"한국어_음식모델_한상민.kv\", mmap='r')\n",
        "\n",
        "with open(PATH_NAME + 'wweia_synonym_cats.pickle', 'rb') as handle:\n",
        "  wweia_synonym_cats = pickle.load(handle)\n",
        "  \n",
        "wweia_food_categories = pd.read_csv(PATH_NAME + 'wweia_food_categories_addtl.csv')\n",
        "wweia_data = pd.read_csv(PATH_NAME + 'wweia_data.csv')\n",
        "wweia_embeddings = pd.read_csv(PATH_NAME + 'word_embeddings.csv', delimiter = \",\")"
      ]
    },
    {
      "cell_type": "code",
      "execution_count": 5,
      "metadata": {
        "id": "jcOunKLxkU7B"
      },
      "outputs": [],
      "source": [
        "stop_words = ['가', '걍', '것', '고', '과', '는', '도', '들', '등', '때', '로', '를', '뿐', '수', '아니', '않', '없', '에', '에게', '와', '으로', '은', '의', '이', '이다', '있', '자', '잘', '좀', '하다', '한', '조각', '개', '것', '대', '소' ,'단계', '등급', '포함', '미니', '개입']"
      ]
    },
    {
      "cell_type": "code",
      "execution_count": 6,
      "metadata": {
        "id": "MolpFYY6HRQ8"
      },
      "outputs": [],
      "source": [
        "def reduce_with_food_words(rough_phrase):\n",
        "  korean_string = re.sub(\"[^ㄱ-ㅎㅏ-ㅣ가-힣 ]\", \" \", rough_phrase)\n",
        "  okt = Okt()\n",
        "  token = okt.morphs(korean_string, stem=True)\n",
        "  \n",
        "  return token"
      ]
    },
    {
      "cell_type": "code",
      "execution_count": 7,
      "metadata": {
        "id": "gsj1bLfb8LFK"
      },
      "outputs": [],
      "source": [
        "def process_food_log(curr_log, wweia_synonym_cats):\n",
        "  curr_log['predicted_categories_number'] = 0\n",
        "  curr_log['predicted_categories_words'] = \"\"\n",
        "  curr_log['max_cosim_score'] = 0\n",
        "  curr_log['most_sim_food'] = \"\"\n",
        "  curr_log['reciprocal_rank'] = 0.0\n",
        "  curr_log['sym_reciprocal_rank'] = 0.0\n",
        "\n",
        "  for i in range(curr_log.shape[0]):\n",
        "    food_name = curr_log.loc[i, 'Food Name']\n",
        "    pre_embedding = reduce_with_food_words(food_name)\n",
        "\n",
        "    word_embed = np.zeros(shape = (1, len(model[\"불고기\"])))\n",
        "    if len(pre_embedding) > 0:\n",
        "      \n",
        "      num_words = 0\n",
        "      for word in pre_embedding:\n",
        "        word = word.lower()\n",
        "        \n",
        "        if word in model:\n",
        "          num_words += 1\n",
        "          word_embed += model[word]\n",
        "\n",
        "      if num_words != 0:\n",
        "        word_embed /= num_words\n",
        "    \n",
        "    # print(\"음식 이름\")\n",
        "    # print(food_name)\n",
        "    # print(\"프리임베딩\")\n",
        "    # print(pre_embedding)\n",
        "    # print(word_embed)\n",
        "    # print('\\n')\n",
        "    \n",
        "    similarities = cosine_similarity(word_embed, wweia_embeddings)\n",
        "    to_keep_args = np.argsort(similarities, axis=1)\n",
        "    indices = np.flip(to_keep_args, axis = 1)\n",
        "\n",
        "    most_sim_food_row = wweia_data.iloc[indices[0,0], :]\n",
        "    highest_cat_num = most_sim_food_row['NO']\n",
        "    highest_cat_words = wweia_food_categories.loc[wweia_food_categories['NO'] == highest_cat_num, '식품명']\n",
        "    curr_log.loc[i, 'predicted_categories_number'] = highest_cat_num\n",
        "    curr_log.loc[i, 'predicted_categories_words'] = highest_cat_words.to_list()[0]\n",
        "    \n",
        "  return curr_log"
      ]
    },
    {
      "cell_type": "code",
      "execution_count": 11,
      "metadata": {
        "colab": {
          "base_uri": "https://localhost:8080/"
        },
        "id": "0uDmhnMi_VRc",
        "outputId": "e54ea183-57ca-45af-8f31-46ab1bce5ebb"
      },
      "outputs": [],
      "source": [
        "# Main method\n",
        "def food_recommandation(input_food_list) :\n",
        "\n",
        "  input_list= [\"wweia_food_category_code\", \"Food Name\", \"wweia_food_category_description\"]\n",
        "  curr_log = pd.DataFrame(input_food_list, columns=input_list)\n",
        "  \n",
        "  curr_log = process_food_log(curr_log, wweia_synonym_cats)\n",
        "\n",
        "  print(\"true 출력 \")\n",
        "  first_list = list(set(curr_log.loc[:,'wweia_food_category_code'].tolist()))\n",
        "  print(first_list)\n",
        "\n",
        "  print(\"pred 출력 \")\n",
        "  second_list = list(set(curr_log.loc[:,'predicted_categories_number'].tolist()))\n",
        "  print(second_list)\n",
        "  \n",
        "  print(\"출력 \")\n",
        "  last_list = first_list + second_list\n",
        "  last_list = list(set(last_list))\n",
        "  print(last_list)\n",
        "  \n",
        "  category_info_list = []\n",
        "  for category_num in last_list:\n",
        "      category_row = wweia_food_categories[wweia_food_categories['NO'] == category_num].iloc[0]\n",
        "      category_dict = {\n",
        "          'foodId': category_row['NO'],\n",
        "          'name': category_row['식품명'],\n",
        "          'category': category_row['식품상세분류']\n",
        "      }\n",
        "      print(category_dict)\n",
        "      category_info_list.append(category_dict)\n",
        "  \n",
        "  print(category_info_list)"
      ]
    },
    {
      "cell_type": "code",
      "execution_count": 12,
      "metadata": {},
      "outputs": [
        {
          "name": "stdout",
          "output_type": "stream",
          "text": [
            "true 출력 \n",
            "[1, 2, 3, 105, 106, 45, 335]\n",
            "pred 출력 \n",
            "[9, 237, 816, 2288, 55, 701, 2015]\n",
            "출력 \n",
            "[1, 2, 3, 105, 106, 9, 45, 237, 335, 816, 2288, 55, 701, 2015]\n",
            "{'foodId': 1, 'name': '메밀전병', 'category': '곡류 및 서류'}\n",
            "{'foodId': 2, 'name': '수수부꾸미', 'category': '곡류 및 서류'}\n",
            "{'foodId': 3, 'name': '약식', 'category': '곡류 및 서류'}\n",
            "{'foodId': 105, 'name': '코코넛머랭', 'category': '기타 과자류'}\n",
            "{'foodId': 106, 'name': '레몬머랭', 'category': '기타 과자류'}\n",
            "{'foodId': 9, 'name': '송편(깨)', 'category': '떡류'}\n",
            "{'foodId': 45, 'name': '초코 마카롱', 'category': '기타 과자류'}\n",
            "{'foodId': 237, 'name': '3mm 황금비율로 바삭하고 고소한 전병세트', 'category': '한과류'}\n",
            "{'foodId': 335, 'name': '홍합미역국', 'category': '어패류국.탕'}\n",
            "{'foodId': 816, 'name': '멥쌀, 현미, 해담쌀, 생것', 'category': '곡류 및 그 제품'}\n",
            "{'foodId': 2288, 'name': '새우, 젓갈, 추젓', 'category': '어패류 및 기타 수산물'}\n",
            "{'foodId': 55, 'name': '초코롱 산딸기', 'category': '기타 과자류'}\n",
            "{'foodId': 701, 'name': '귀리, 쌀귀리, 도정, 생것', 'category': '곡류 및 그 제품'}\n",
            "{'foodId': 2015, 'name': '장어, 뱀장어, 간, 생것', 'category': '어패류 및 기타 수산물'}\n",
            "[{'foodId': 1, 'name': '메밀전병', 'category': '곡류 및 서류'}, {'foodId': 2, 'name': '수수부꾸미', 'category': '곡류 및 서류'}, {'foodId': 3, 'name': '약식', 'category': '곡류 및 서류'}, {'foodId': 105, 'name': '코코넛머랭', 'category': '기타 과자류'}, {'foodId': 106, 'name': '레몬머랭', 'category': '기타 과자류'}, {'foodId': 9, 'name': '송편(깨)', 'category': '떡류'}, {'foodId': 45, 'name': '초코 마카롱', 'category': '기타 과자류'}, {'foodId': 237, 'name': '3mm 황금비율로 바삭하고 고소한 전병세트', 'category': '한과류'}, {'foodId': 335, 'name': '홍합미역국', 'category': '어패류국.탕'}, {'foodId': 816, 'name': '멥쌀, 현미, 해담쌀, 생것', 'category': '곡류 및 그 제품'}, {'foodId': 2288, 'name': '새우, 젓갈, 추젓', 'category': '어패류 및 기타 수산물'}, {'foodId': 55, 'name': '초코롱 산딸기', 'category': '기타 과자류'}, {'foodId': 701, 'name': '귀리, 쌀귀리, 도정, 생것', 'category': '곡류 및 그 제품'}, {'foodId': 2015, 'name': '장어, 뱀장어, 간, 생것', 'category': '어패류 및 기타 수산물'}]\n"
          ]
        }
      ],
      "source": [
        "two_dimensional_array = [\n",
        "    [1, \"메밀전병\", \"곡류 및 서류\"],\n",
        "    [2, \"약식\", \"곡류 및 서류\"],\n",
        "    [3, \"무지개떡\", \"곡류 및 서류\"],\n",
        "    [45, \"초코 마카롱\", \"과자류\"],\n",
        "    [106, \"레몬머랭\", \"과자류\"],\n",
        "    [105, \"코코넛머랭\", \"과자류\"],\n",
        "    [335, \"홍합미역국\", \"국 및 탕류\"]\n",
        "]\n",
        "food_recommandation(two_dimensional_array)"
      ]
    }
  ],
  "metadata": {
    "colab": {
      "collapsed_sections": [],
      "name": "LFP_Method_4.ipynb",
      "provenance": []
    },
    "kernelspec": {
      "display_name": "Python 3",
      "name": "python3"
    },
    "language_info": {
      "codemirror_mode": {
        "name": "ipython",
        "version": 3
      },
      "file_extension": ".py",
      "mimetype": "text/x-python",
      "name": "python",
      "nbconvert_exporter": "python",
      "pygments_lexer": "ipython3",
      "version": "3.10.10"
    }
  },
  "nbformat": 4,
  "nbformat_minor": 0
}
